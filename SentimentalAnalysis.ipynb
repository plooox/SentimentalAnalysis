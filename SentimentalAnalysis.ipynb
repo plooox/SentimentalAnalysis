{
 "cells": [
  {
   "cell_type": "code",
   "execution_count": null,
   "metadata": {},
   "outputs": [],
   "source": [
    "import pandas as pd\n",
    "import numpy as np\n",
    "import csv\n",
    "from pororo import Pororo"
   ]
  },
  {
   "cell_type": "code",
   "execution_count": null,
   "metadata": {},
   "outputs": [],
   "source": [
    "sa = Pororo(task = \"sentiment\", model = \"brainbert.base.ko.nsmc\", lang = \"ko\")\n",
    "\n",
    "fileList = ['손흥민', '이강인', '황의조', '페이커']\n",
    "\n",
    "# for each keywords..\n",
    "for keyword in fileList:\n",
    "    csvName = keyword+'_sa.csv'\n",
    "    csvFile = open(csvName, 'a', newline='', encoding='utf-8')\n",
    "    csvWrite = csv.writer(csvFile)\n",
    "    csvWrite.writerow(['Date','Pos/Neg','Tweet'])\n",
    "    csvFile.close()\n",
    "    \n",
    "    refCsv = pd.read_csv(keyword+'.csv')\n",
    "    for idx, rowData in refCsv.iterrows():\n",
    "        tw_date = rowData['Date']\n",
    "        tw_content = rowData['Tweet']\n",
    "        tw_posneg = -1\n",
    "        try:\n",
    "            if sa(tw_content) == \"Positive\":\n",
    "                tw_posneg = 1\n",
    "            elif sa(tw_content) == \"Negative\":\n",
    "                tw_posneg = 0\n",
    "\n",
    "            # Save csv file with Pos/Neg\n",
    "            # Add for each row\n",
    "            csvFile = open(csvNadlsme, 'a', newline='', encoding='utf-8')\n",
    "            csvWrite = csv.writer(csvFile)\n",
    "            csvWrite.writerow([tw_date, tw_posneg, tw_content])\n",
    "            csvFile.close()\n",
    "\n",
    "            if (idx % 10000 == 0):  # Check running\n",
    "                print(\"Now: \"+ keyword+ \" - \"+str(idx))\n",
    "        except:\n",
    "            print(\"error\")\n",
    "print(\"End\")"
   ]
  }
 ],
 "metadata": {
  "language_info": {
   "name": "python"
  },
  "orig_nbformat": 4
 },
 "nbformat": 4,
 "nbformat_minor": 2
}
