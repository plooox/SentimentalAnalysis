{
  "nbformat": 4,
  "nbformat_minor": 5,
  "metadata": {
    "kernelspec": {
      "display_name": "Python 3",
      "language": "python",
      "name": "python3"
    },
    "language_info": {
      "codemirror_mode": {
        "name": "ipython",
        "version": 3
      },
      "file_extension": ".py",
      "mimetype": "text/x-python",
      "name": "python",
      "nbconvert_exporter": "python",
      "pygments_lexer": "ipython3",
      "version": "3.6.13"
    },
    "colab": {
      "name": "SentimentalAnalysis.ipynb",
      "provenance": [],
      "collapsed_sections": [],
      "include_colab_link": true
    }
  },
  "cells": [
    {
      "cell_type": "markdown",
      "metadata": {
        "id": "view-in-github",
        "colab_type": "text"
      },
      "source": [
        "<a href=\"https://colab.research.google.com/github/plooox/SentimentalAnalysis/blob/master/SentimentalAnalysis.ipynb\" target=\"_parent\"><img src=\"https://colab.research.google.com/assets/colab-badge.svg\" alt=\"Open In Colab\"/></a>"
      ]
    },
    {
      "cell_type": "code",
      "metadata": {
        "id": "5173130d"
      },
      "source": [
        "import pandas as pd\n",
        "import numpy as np\n",
        "import csv"
      ],
      "id": "5173130d",
      "execution_count": null,
      "outputs": []
    },
    {
      "cell_type": "code",
      "metadata": {
        "id": "b1463bf8"
      },
      "source": [
        "from pororo import Pororo\n",
        "sa = Pororo(task = \"sentiment\", model = \"brainbert.base.ko.nsmc\", lang = \"ko\")"
      ],
      "id": "b1463bf8",
      "execution_count": null,
      "outputs": []
    },
    {
      "cell_type": "code",
      "metadata": {
        "id": "fe761503"
      },
      "source": [
        "fileList = ['토트넘','발렌시아','보르도']\n",
        "\n",
        "for keyword in fileList:\n",
        "    csvName = keyword+'_sa.csv'\n",
        "    csvFile = open(csvName, 'a', newline='', encoding='utf-8')\n",
        "    csvWrite = csv.writer(csvFile)\n",
        "    csvWrite.writerow(['Date','Pos/Neg','Tweet'])\n",
        "    csvFile.close()\n",
        "    \n",
        "    refCsv = pd.read_csv(keyword+'.csv')\n",
        "    for idx, rowData in refCsv.iterrows():\n",
        "        tw_date = rowData['Date']\n",
        "        tw_content = rowData['Tweet']\n",
        "        tw_posneg = -1\n",
        "        try:\n",
        "            if sa(tw_content) == \"Positive\":\n",
        "                tw_posneg = 1\n",
        "            elif sa(tw_content) == \"Negative\":\n",
        "                tw_posneg = 0\n",
        "\n",
        "            csvFile = open(csvName, 'a', newline='', encoding='utf-8')\n",
        "            csvWrite = csv.writer(csvFile)\n",
        "            csvWrite.writerow([tw_date, tw_posneg, tw_content])\n",
        "            csvFile.close()\n",
        "\n",
        "            if (idx % 10000 == 0):\n",
        "                print(\"Now: \"+ keyword+ \" - \"+str(idx))\n",
        "        except:\n",
        "            print(\"error\")\n",
        "        "
      ],
      "id": "fe761503",
      "execution_count": null,
      "outputs": []
    },
    {
      "cell_type": "code",
      "metadata": {
        "id": "39f2469f"
      },
      "source": [
        ""
      ],
      "id": "39f2469f",
      "execution_count": null,
      "outputs": []
    }
  ]
}