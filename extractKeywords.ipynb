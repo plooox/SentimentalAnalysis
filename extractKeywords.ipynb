{
  "nbformat": 4,
  "nbformat_minor": 0,
  "metadata": {
    "colab": {
      "name": "extractKeywords.ipynb",
      "provenance": [],
      "collapsed_sections": [],
      "mount_file_id": "1bdFhDytV3Zf8S4jbastsDJPWZ0FZHhyw",
      "authorship_tag": "ABX9TyNOgALFwEmAi9ezZgDjLyMo",
      "include_colab_link": true
    },
    "kernelspec": {
      "name": "python3",
      "display_name": "Python 3"
    },
    "language_info": {
      "name": "python"
    }
  },
  "cells": [
    {
      "cell_type": "markdown",
      "metadata": {
        "id": "view-in-github",
        "colab_type": "text"
      },
      "source": [
        "<a href=\"https://colab.research.google.com/github/plooox/SentimentalAnalysis/blob/master/extractKeywords.ipynb\" target=\"_parent\"><img src=\"https://colab.research.google.com/assets/colab-badge.svg\" alt=\"Open In Colab\"/></a>"
      ]
    },
    {
      "cell_type": "code",
      "metadata": {
        "colab": {
          "base_uri": "https://localhost:8080/"
        },
        "id": "VZ5KWHCqFI45",
        "outputId": "21539030-2aa8-493d-8cb3-f4113fc8f7cf"
      },
      "source": [
        "!pip install konlpy\n",
        "!pip install krwordrank\n",
        "!pip install soynlp"
      ],
      "execution_count": 1,
      "outputs": [
        {
          "output_type": "stream",
          "name": "stdout",
          "text": [
            "Collecting konlpy\n",
            "  Downloading konlpy-0.5.2-py2.py3-none-any.whl (19.4 MB)\n",
            "\u001b[K     |████████████████████████████████| 19.4 MB 1.2 MB/s \n",
            "\u001b[?25hCollecting colorama\n",
            "  Downloading colorama-0.4.4-py2.py3-none-any.whl (16 kB)\n",
            "Requirement already satisfied: tweepy>=3.7.0 in /usr/local/lib/python3.7/dist-packages (from konlpy) (3.10.0)\n",
            "Collecting JPype1>=0.7.0\n",
            "  Downloading JPype1-1.3.0-cp37-cp37m-manylinux_2_5_x86_64.manylinux1_x86_64.whl (448 kB)\n",
            "\u001b[K     |████████████████████████████████| 448 kB 40.6 MB/s \n",
            "\u001b[?25hCollecting beautifulsoup4==4.6.0\n",
            "  Downloading beautifulsoup4-4.6.0-py3-none-any.whl (86 kB)\n",
            "\u001b[K     |████████████████████████████████| 86 kB 6.9 MB/s \n",
            "\u001b[?25hRequirement already satisfied: numpy>=1.6 in /usr/local/lib/python3.7/dist-packages (from konlpy) (1.19.5)\n",
            "Requirement already satisfied: lxml>=4.1.0 in /usr/local/lib/python3.7/dist-packages (from konlpy) (4.2.6)\n",
            "Requirement already satisfied: typing-extensions in /usr/local/lib/python3.7/dist-packages (from JPype1>=0.7.0->konlpy) (3.7.4.3)\n",
            "Requirement already satisfied: requests[socks]>=2.11.1 in /usr/local/lib/python3.7/dist-packages (from tweepy>=3.7.0->konlpy) (2.23.0)\n",
            "Requirement already satisfied: six>=1.10.0 in /usr/local/lib/python3.7/dist-packages (from tweepy>=3.7.0->konlpy) (1.15.0)\n",
            "Requirement already satisfied: requests-oauthlib>=0.7.0 in /usr/local/lib/python3.7/dist-packages (from tweepy>=3.7.0->konlpy) (1.3.0)\n",
            "Requirement already satisfied: oauthlib>=3.0.0 in /usr/local/lib/python3.7/dist-packages (from requests-oauthlib>=0.7.0->tweepy>=3.7.0->konlpy) (3.1.1)\n",
            "Requirement already satisfied: chardet<4,>=3.0.2 in /usr/local/lib/python3.7/dist-packages (from requests[socks]>=2.11.1->tweepy>=3.7.0->konlpy) (3.0.4)\n",
            "Requirement already satisfied: certifi>=2017.4.17 in /usr/local/lib/python3.7/dist-packages (from requests[socks]>=2.11.1->tweepy>=3.7.0->konlpy) (2021.5.30)\n",
            "Requirement already satisfied: idna<3,>=2.5 in /usr/local/lib/python3.7/dist-packages (from requests[socks]>=2.11.1->tweepy>=3.7.0->konlpy) (2.10)\n",
            "Requirement already satisfied: urllib3!=1.25.0,!=1.25.1,<1.26,>=1.21.1 in /usr/local/lib/python3.7/dist-packages (from requests[socks]>=2.11.1->tweepy>=3.7.0->konlpy) (1.24.3)\n",
            "Requirement already satisfied: PySocks!=1.5.7,>=1.5.6 in /usr/local/lib/python3.7/dist-packages (from requests[socks]>=2.11.1->tweepy>=3.7.0->konlpy) (1.7.1)\n",
            "Installing collected packages: JPype1, colorama, beautifulsoup4, konlpy\n",
            "  Attempting uninstall: beautifulsoup4\n",
            "    Found existing installation: beautifulsoup4 4.6.3\n",
            "    Uninstalling beautifulsoup4-4.6.3:\n",
            "      Successfully uninstalled beautifulsoup4-4.6.3\n",
            "Successfully installed JPype1-1.3.0 beautifulsoup4-4.6.0 colorama-0.4.4 konlpy-0.5.2\n",
            "Collecting krwordrank\n",
            "  Using cached krwordrank-1.0.3-py3-none-any.whl (20 kB)\n",
            "Requirement already satisfied: scipy>=1.4.1 in /usr/local/lib/python3.7/dist-packages (from krwordrank) (1.4.1)\n",
            "Requirement already satisfied: numpy>=1.18.4 in /usr/local/lib/python3.7/dist-packages (from krwordrank) (1.19.5)\n",
            "Requirement already satisfied: scikit-learn>=0.22.1 in /usr/local/lib/python3.7/dist-packages (from krwordrank) (0.22.2.post1)\n",
            "Requirement already satisfied: joblib>=0.11 in /usr/local/lib/python3.7/dist-packages (from scikit-learn>=0.22.1->krwordrank) (1.0.1)\n",
            "Installing collected packages: krwordrank\n",
            "Successfully installed krwordrank-1.0.3\n",
            "Requirement already satisfied: soynlp in /usr/local/lib/python3.7/dist-packages (0.0.493)\n",
            "Requirement already satisfied: numpy>=1.12.1 in /usr/local/lib/python3.7/dist-packages (from soynlp) (1.19.5)\n",
            "Requirement already satisfied: scipy>=1.1.0 in /usr/local/lib/python3.7/dist-packages (from soynlp) (1.4.1)\n",
            "Requirement already satisfied: scikit-learn>=0.20.0 in /usr/local/lib/python3.7/dist-packages (from soynlp) (0.22.2.post1)\n",
            "Requirement already satisfied: psutil>=5.0.1 in /usr/local/lib/python3.7/dist-packages (from soynlp) (5.4.8)\n",
            "Requirement already satisfied: joblib>=0.11 in /usr/local/lib/python3.7/dist-packages (from scikit-learn>=0.20.0->soynlp) (1.0.1)\n"
          ]
        }
      ]
    },
    {
      "cell_type": "code",
      "metadata": {
        "id": "5POh0XLeM8bi"
      },
      "source": [
        "import pandas as pd\n",
        "import numpy as np\n",
        "import pickle\n",
        "from konlpy.tag import Okt\n",
        "from konlpy.tag import Kkma "
      ],
      "execution_count": 2,
      "outputs": []
    },
    {
      "cell_type": "code",
      "metadata": {
        "id": "u0dr80XcNOdq"
      },
      "source": [
        "okt = Okt()\n",
        "kkma = Kkma()"
      ],
      "execution_count": 3,
      "outputs": []
    },
    {
      "cell_type": "code",
      "metadata": {
        "colab": {
          "base_uri": "https://localhost:8080/"
        },
        "id": "S6u2gr_0Rjhz",
        "outputId": "943aea1b-98e3-4096-c844-ec9846ad4065"
      },
      "source": [
        "pName = ['손흥민', '이강인', '황의조', '페이커']\n",
        "\n",
        "for name in pName:\n",
        "  df = pd.read_csv('/content/drive/MyDrive/TweetData/'+name+'.csv')\n",
        "  tw = df['Tweet']\n",
        "  i = 0\n",
        "  twList = []\n",
        "  original = []\n",
        "  for twData in tw:\n",
        "    noun = okt.nouns(twData)\n",
        "    original.append(twData)\n",
        "    string = \"\"\n",
        "    for idx, v in enumerate(noun):\n",
        "      if len(v) < 2:\n",
        "        noun.pop(idx)\n",
        "      string = ' '.join(noun)\n",
        "    twList.append(string)\n",
        "    i += 1\n",
        "    if (i % 1000 == 0):\n",
        "      print(\"Running....\")\n",
        "      with open('/content/drive/MyDrive/TweetData/'+name+'.pkl', 'wb') as file:\n",
        "        pickle.dump(twList, file)\n",
        "  print(\"End: \"+name)\n",
        "  with open('/content/drive/MyDrive/TweetData/'+name+'.pkl', 'wb') as file:\n",
        "    pickle.dump(twList, file)\n"
      ],
      "execution_count": 5,
      "outputs": [
        {
          "output_type": "stream",
          "name": "stdout",
          "text": [
            "Running....\n",
            "Running....\n",
            "Running....\n",
            "Running....\n",
            "Running....\n",
            "Running....\n",
            "Running....\n",
            "Running....\n",
            "Running....\n",
            "Running....\n",
            "Running....\n",
            "Running....\n",
            "Running....\n",
            "Running....\n",
            "Running....\n",
            "Running....\n",
            "Running....\n",
            "Running....\n",
            "Running....\n",
            "Running....\n",
            "Running....\n",
            "Running....\n",
            "End: 손흥민\n",
            "Running....\n",
            "Running....\n",
            "Running....\n",
            "Running....\n",
            "Running....\n",
            "Running....\n",
            "Running....\n",
            "End: 이강인\n",
            "Running....\n",
            "Running....\n",
            "Running....\n",
            "End: 황의조\n",
            "Running....\n",
            "Running....\n",
            "Running....\n",
            "Running....\n",
            "Running....\n",
            "Running....\n",
            "Running....\n",
            "Running....\n",
            "Running....\n",
            "Running....\n",
            "Running....\n",
            "Running....\n",
            "Running....\n",
            "Running....\n",
            "Running....\n",
            "Running....\n",
            "Running....\n",
            "Running....\n",
            "Running....\n",
            "End: 페이커\n"
          ]
        }
      ]
    },
    {
      "cell_type": "code",
      "metadata": {
        "colab": {
          "base_uri": "https://localhost:8080/"
        },
        "id": "B3-FddEucY5t",
        "outputId": "ba7bcfe7-df2f-4ff1-aae0-c95f95303e3c"
      },
      "source": [
        "from krwordrank.word import KRWordRank\n",
        "from krwordrank.sentence import summarize_with_sentences\n",
        "\n",
        "penalty = lambda x:0 if (25 <= len(x) <= 80) else 1\n",
        "stopwords = {'손흥민', '출처', '진짜', '경기','사람'}\n",
        "\n",
        "keywords, sents = summarize_with_sentences(\n",
        "    twList,\n",
        "    penalty=penalty,\n",
        "    stopwords = stopwords,\n",
        "    diversity=0.5,\n",
        "    num_keywords=100,\n",
        "    num_keysents=10,\n",
        "    verbose=False\n",
        ")\n",
        "print(keywords)"
      ],
      "execution_count": 8,
      "outputs": [
        {
          "output_type": "stream",
          "name": "stdout",
          "text": [
            "{'페이커': 256.1650487855716, '선수': 26.595164688857672, '테디': 12.21911740815392, '생각': 10.550983021258006, '미드': 9.829175130767752, '티원': 9.511993487007947, '오늘': 9.506012171627201, '이상혁': 9.274568081447914, '낚시': 7.898966235139315, '우리': 7.824795323651142, '칸나': 7.769472491742728, '게임': 7.509140202923852, '그냥': 7.398655825735754, '케리': 7.146301409692881, '노래': 6.783937591255987, '클로저': 6.754781181702056, '지금': 6.286103091601585, '보고': 6.257166362312418, '여행': 5.182365178451566, '감독': 5.064520363583147, '하나': 4.949392196250964, '응원': 4.927463464448955, '스포츠': 4.881071216211992, '프로': 4.39169640220883, '사랑': 4.371048851362474, '네이버': 4.338645392267722, '이제': 4.330026187060925, '세트': 4.1619414361599985, '닥터': 4.145789976357743, '방송': 4.099012216829167, '로이': 4.004102367198194, '유튜브': 3.9900040091558937, '화이팅': 3.91464431148573, '롤드컵': 3.9059996882315526, '인터뷰': 3.825279225594582, '축하': 3.7529689776024457, '조사': 3.748194534959699, '라이': 3.7021222733111037, '이번': 3.6638493101342537, '영상': 3.6197847195345907, '그램': 3.4699103913978595, '때문': 3.469462632262824, '우승': 3.418996572088979, '광고': 3.378604378072591, '정도': 3.2576663175504317, '존나': 3.2444089038278605, '다른': 3.1983165988185824, '먹방': 3.191810635957913, '아프리카': 3.1114355395884807, '운동': 3.0997817995985173, '유시': 3.0337768642898575, '이건': 3.018164824953743, '느낌': 3.0174342991390515, '구마': 2.9685795546024676, '유기견': 2.913439095244879, '함정': 2.90708734019155, '플레이': 2.8859793847626025, '역시': 2.843416069466911, '엘림': 2.8405824533868214, '상대': 2.81420731940796, '라인': 2.8115109879666638, '은퇴': 2.7856645917020493, '사실': 2.721526918781047, '생일': 2.714053512478106, '정글': 2.713271611817743, '정말': 2.7088354983794587, '사진': 2.687151907989098, '계속': 2.678987644005603, '자기': 2.6690728847398333, '시즌': 2.6521186173252365, '스크림': 2.6452607958748384, '이름': 2.6347928137287906, '승리': 2.589442526171818, '제발': 2.578999128871586, '신인': 2.57796512513319, '카드': 2.570860363360527, '어제': 2.483533871721307, '이유': 2.4753529909615426, '국내': 2.4501326749711283, '제우스': 2.415412221812838, '트페': 2.395254584143765, '리그': 2.3676635762895257, '누가': 2.362037146586567, '사이': 2.347429035447786, '한번': 2.310646978184482, '항상': 2.3094506744955585, '추천': 2.2981324876467837, '시작': 2.2859127668374413, '최고': 2.2846759009713153, '무슨': 2.27661511585393, '시간': 2.2737803850886666, '상혁': 2.265295855557519, '데뷔': 2.2652916855606597, '르블랑': 2.253855212946842, '소리': 2.2476686417540774, '다시': 2.221108306522934, '주전': 2.210059469982637, '카이': 2.206803187804343, '얘기': 2.1997089719218947, '솔랭': 2.1559728408723586}\n"
          ]
        }
      ]
    },
    {
      "cell_type": "code",
      "metadata": {
        "colab": {
          "base_uri": "https://localhost:8080/"
        },
        "id": "tOQ4iTv3h3dt",
        "outputId": "e9568782-7b9a-42e6-bb6b-ec060ef28701"
      },
      "source": [
        "pName = ['손흥민', '이강인', '황의조', '페이커']\n",
        "\n",
        "for name in pName:\n",
        "  df = pd.read_csv('/content/drive/MyDrive/TweetData/'+name+'.csv')\n",
        "  tw = df['Tweet']\n",
        "  i = 0\n",
        "  twList = []\n",
        "  nounStr = \"\"\n",
        "  for twData in tw:\n",
        "    noun = okt.nouns(twData)\n",
        "    nounStr = ' '.join(noun)\n",
        "    nounPos = kkma.pos(nounStr)\n",
        "    string = \"\"\n",
        "    onlyNNP = []\n",
        "    for (text, pos) in nounPos:\n",
        "      if pos == 'NNP':\n",
        "        onlyNNP.append(text)\n",
        "    string = ' '.join(onlyNNP)\n",
        "    twList.append(string)\n",
        "    i += 1\n",
        "    if (i % 1000 == 0):\n",
        "      print(\"Running....\")\n",
        "      with open('/content/drive/MyDrive/TweetData/'+name+'_NNP.pkl', 'wb') as file:\n",
        "        pickle.dump(twList, file)\n",
        "  print(\"End: \"+name)\n",
        "  with open('/content/drive/MyDrive/TweetData/'+name+'_NNP.pkl', 'wb') as file:\n",
        "    pickle.dump(twList, file)\n"
      ],
      "execution_count": 9,
      "outputs": [
        {
          "output_type": "stream",
          "name": "stdout",
          "text": [
            "Running....\n",
            "Running....\n",
            "Running....\n",
            "Running....\n",
            "Running....\n",
            "Running....\n",
            "Running....\n",
            "Running....\n",
            "Running....\n",
            "Running....\n",
            "Running....\n",
            "Running....\n",
            "Running....\n",
            "Running....\n",
            "Running....\n",
            "Running....\n",
            "Running....\n",
            "Running....\n",
            "Running....\n",
            "Running....\n",
            "Running....\n",
            "Running....\n",
            "End: 손흥민\n",
            "Running....\n",
            "Running....\n",
            "Running....\n",
            "Running....\n",
            "Running....\n",
            "Running....\n",
            "Running....\n",
            "End: 이강인\n",
            "Running....\n",
            "Running....\n",
            "Running....\n",
            "End: 황의조\n",
            "Running....\n",
            "Running....\n",
            "Running....\n",
            "Running....\n",
            "Running....\n",
            "Running....\n",
            "Running....\n",
            "Running....\n",
            "Running....\n",
            "Running....\n",
            "Running....\n",
            "Running....\n",
            "Running....\n",
            "Running....\n",
            "Running....\n",
            "Running....\n",
            "Running....\n",
            "Running....\n",
            "Running....\n",
            "End: 페이커\n"
          ]
        }
      ]
    },
    {
      "cell_type": "code",
      "metadata": {
        "id": "DbbsoybnIsRQ"
      },
      "source": [
        "penalty = lambda x:0 if (25 <= len(x) <= 80) else 1\n",
        "stopwords = {'손흥민', '출처', '진짜', '경기','사람'}\n",
        "\n",
        "keywords, sents = summarize_with_sentences(\n",
        "    twList,\n",
        "    penalty=penalty,\n",
        "    stopwords = stopwords,\n",
        "    diversity=0.5,\n",
        "    num_keywords=100,\n",
        "    num_keysents=10,\n",
        "    verbose=False\n",
        ")\n",
        "print(keywords)"
      ],
      "execution_count": null,
      "outputs": []
    }
  ]
}