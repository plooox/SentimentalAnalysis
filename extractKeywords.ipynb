{
  "cells": [
    {
      "cell_type": "markdown",
      "metadata": {
        "colab_type": "text",
        "id": "view-in-github"
      },
      "source": [
        "<a href=\"https://colab.research.google.com/github/plooox/SentimentalAnalysis/blob/master/extractKeywords.ipynb\" target=\"_parent\"><img src=\"https://colab.research.google.com/assets/colab-badge.svg\" alt=\"Open In Colab\"/></a>"
      ]
    },
    {
      "cell_type": "code",
      "execution_count": null,
      "metadata": {
        "colab": {
          "base_uri": "https://localhost:8080/"
        },
        "id": "VZ5KWHCqFI45",
        "outputId": "21539030-2aa8-493d-8cb3-f4113fc8f7cf"
      },
      "outputs": [],
      "source": [
        "!pip install konlpy\n",
        "!pip install krwordrank\n",
        "!pip install soynlp"
      ]
    },
    {
      "cell_type": "code",
      "execution_count": 2,
      "metadata": {
        "id": "5POh0XLeM8bi"
      },
      "outputs": [],
      "source": [
        "import pandas as pd\n",
        "import numpy as np\n",
        "import pickle\n",
        "from konlpy.tag import Okt\n",
        "from konlpy.tag import Kkma "
      ]
    },
    {
      "cell_type": "code",
      "execution_count": 3,
      "metadata": {
        "id": "u0dr80XcNOdq"
      },
      "outputs": [],
      "source": [
        "okt = Okt()\n",
        "kkma = Kkma()"
      ]
    },
    {
      "cell_type": "code",
      "execution_count": null,
      "metadata": {
        "colab": {
          "base_uri": "https://localhost:8080/"
        },
        "id": "S6u2gr_0Rjhz",
        "outputId": "943aea1b-98e3-4096-c844-ec9846ad4065"
      },
      "outputs": [],
      "source": [
        "pName = ['손흥민', '이강인', '황의조', '페이커']\n",
        "\n",
        "for name in pName:\n",
        "  df = pd.read_csv('/content/drive/MyDrive/TweetData/'+name+'.csv')\n",
        "  tw = df['Tweet']\n",
        "  i = 0\n",
        "  twList = []\n",
        "  original = []\n",
        "  for twData in tw:\n",
        "    noun = okt.nouns(twData)\n",
        "    original.append(twData)\n",
        "    string = \"\"\n",
        "    for idx, v in enumerate(noun):\n",
        "      if len(v) < 2:\n",
        "        noun.pop(idx)\n",
        "      string = ' '.join(noun)\n",
        "    twList.append(string)\n",
        "    i += 1\n",
        "    if (i % 1000 == 0):\n",
        "      print(\"Running....\")\n",
        "      with open('/content/drive/MyDrive/TweetData/'+name+'.pkl', 'wb') as file:\n",
        "        pickle.dump(twList, file)\n",
        "  print(\"End: \"+name)\n",
        "  with open('/content/drive/MyDrive/TweetData/'+name+'.pkl', 'wb') as file:\n",
        "    pickle.dump(twList, file)\n"
      ]
    },
    {
      "cell_type": "code",
      "execution_count": null,
      "metadata": {
        "colab": {
          "base_uri": "https://localhost:8080/"
        },
        "id": "B3-FddEucY5t",
        "outputId": "ba7bcfe7-df2f-4ff1-aae0-c95f95303e3c"
      },
      "outputs": [],
      "source": [
        "from krwordrank.word import KRWordRank\n",
        "from krwordrank.sentence import summarize_with_sentences\n",
        "\n",
        "penalty = lambda x:0 if (25 <= len(x) <= 80) else 1\n",
        "stopwords = {'손흥민', '출처', '진짜', '경기','사람'}\n",
        "\n",
        "keywords, sents = summarize_with_sentences(\n",
        "    twList,\n",
        "    penalty=penalty,\n",
        "    stopwords = stopwords,\n",
        "    diversity=0.5,\n",
        "    num_keywords=100,\n",
        "    num_keysents=10,\n",
        "    verbose=False\n",
        ")\n",
        "print(keywords)"
      ]
    },
    {
      "cell_type": "code",
      "execution_count": null,
      "metadata": {
        "colab": {
          "base_uri": "https://localhost:8080/"
        },
        "id": "tOQ4iTv3h3dt",
        "outputId": "e9568782-7b9a-42e6-bb6b-ec060ef28701"
      },
      "outputs": [],
      "source": [
        "pName = ['손흥민', '이강인', '황의조', '페이커']\n",
        "\n",
        "for name in pName:\n",
        "  df = pd.read_csv('/content/drive/MyDrive/TweetData/'+name+'.csv')\n",
        "  tw = df['Tweet']\n",
        "  i = 0\n",
        "  twList = []\n",
        "  nounStr = \"\"\n",
        "  for twData in tw:\n",
        "    noun = okt.nouns(twData)\n",
        "    nounStr = ' '.join(noun)\n",
        "    nounPos = kkma.pos(nounStr)\n",
        "    string = \"\"\n",
        "    onlyNNP = []\n",
        "    for (text, pos) in nounPos:\n",
        "      if pos == 'NNP':\n",
        "        onlyNNP.append(text)\n",
        "    string = ' '.join(onlyNNP)\n",
        "    twList.append(string)\n",
        "    i += 1\n",
        "    if (i % 1000 == 0):\n",
        "      print(\"Running....\")\n",
        "      with open('/content/drive/MyDrive/TweetData/'+name+'_NNP.pkl', 'wb') as file:\n",
        "        pickle.dump(twList, file)\n",
        "  print(\"End: \"+name)\n",
        "  with open('/content/drive/MyDrive/TweetData/'+name+'_NNP.pkl', 'wb') as file:\n",
        "    pickle.dump(twList, file)\n"
      ]
    },
    {
      "cell_type": "code",
      "execution_count": null,
      "metadata": {
        "id": "DbbsoybnIsRQ"
      },
      "outputs": [],
      "source": [
        "penalty = lambda x:0 if (25 <= len(x) <= 80) else 1\n",
        "stopwords = {'손흥민', '출처', '진짜', '경기','사람'}\n",
        "\n",
        "keywords, sents = summarize_with_sentences(\n",
        "    twList,\n",
        "    penalty=penalty,\n",
        "    stopwords = stopwords,\n",
        "    diversity=0.5,\n",
        "    num_keywords=100,\n",
        "    num_keysents=10,\n",
        "    verbose=False\n",
        ")\n",
        "print(keywords)"
      ]
    }
  ],
  "metadata": {
    "colab": {
      "authorship_tag": "ABX9TyNOgALFwEmAi9ezZgDjLyMo",
      "collapsed_sections": [],
      "include_colab_link": true,
      "mount_file_id": "1bdFhDytV3Zf8S4jbastsDJPWZ0FZHhyw",
      "name": "extractKeywords.ipynb",
      "provenance": []
    },
    "kernelspec": {
      "display_name": "Python 3",
      "name": "python3"
    },
    "language_info": {
      "name": "python"
    }
  },
  "nbformat": 4,
  "nbformat_minor": 0
}
